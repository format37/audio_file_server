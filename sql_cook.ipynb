{
 "cells": [
  {
   "cell_type": "code",
   "execution_count": 3,
   "metadata": {},
   "outputs": [],
   "source": [
    "#import pymssql as sql\n",
    "import pymysql as sql\n",
    "import pandas as pd"
   ]
  },
  {
   "cell_type": "code",
   "execution_count": 2,
   "metadata": {},
   "outputs": [],
   "source": [
    "class cook_object:\n",
    "\n",
    "    def __init__(self):\n",
    "\n",
    "        self.db_name = 'MICO_96'\n",
    "        self.db_server = '10.2.4.146'\n",
    "        self.db_login = 'asterisk'\n",
    "        with open('sql.pass','r') as file:\n",
    "            self.db_pass = file.read().replace('\\n', '')\n",
    "            file.close()\n",
    "        self.con = self.connect_sql()\n",
    "\n",
    "    def connect_sql(self):\n",
    "\n",
    "        return sql.connect(\n",
    "            self.db_server, \n",
    "            self.db_login, \n",
    "            self.db_pass,\n",
    "            self.db_name\n",
    "        )"
   ]
  },
  {
   "cell_type": "code",
   "execution_count": 3,
   "metadata": {},
   "outputs": [],
   "source": [
    "cook = cook_object()"
   ]
  },
  {
   "cell_type": "code",
   "execution_count": 10,
   "metadata": {},
   "outputs": [],
   "source": [
    "linkedid = []\n",
    "linkedid.append(\n",
    "    {\n",
    "    'call_id':'0012388684',\n",
    "    'date_from':'2020-10-15 22:15:06',\n",
    "    'date_to':'2020-10-15 22:17:06',\n",
    "    'linkedid':'1602789350.14400182',\n",
    "    }\n",
    ")\n",
    "linkedid.append(\n",
    "    {\n",
    "    'call_id':'0012388685',\n",
    "    'date_from':'2020-10-15 22:18:25',\n",
    "    'date_to':'2020-10-15 22:20:25',\n",
    "    'linkedid':'1602789550.14400185',\n",
    "    }\n",
    ")"
   ]
  },
  {
   "cell_type": "code",
   "execution_count": 15,
   "metadata": {},
   "outputs": [
    {
     "data": {
      "text/plain": [
       "\"create temporary table primary_linkedid_0\\n    \\n    select\\n    '0012388684' as call_id,\\n    '2020-10-15 22:15:06' as date_from,\\n    '2020-10-15 22:17:06' as date_to,\\n    '1602789350.14400182' as linkedid\\n    union all\\n    select\\n    '0012388685' as call_id,\\n    '2020-10-15 22:18:25' as date_from,\\n    '2020-10-15 22:20:25' as date_to,\\n    '1602789550.14400185' as linkedid;\""
      ]
     },
     "execution_count": 15,
     "metadata": {},
     "output_type": "execute_result"
    }
   ],
   "source": [
    "query = 'create temporary table primary_linkedid_0'\n",
    "i = 0\n",
    "for instance in linkedid:\n",
    "    query+=\"\"\"\n",
    "    \"\"\"+('' if i==0 else 'union all')+\"\"\"\n",
    "    select\n",
    "    '\"\"\"+instance['call_id']+\"\"\"' as call_id,\n",
    "    '\"\"\"+instance['date_from']+\"\"\"' as date_from,\n",
    "    '\"\"\"+instance['date_to']+\"\"\"' as date_to,\n",
    "    '\"\"\"+instance['linkedid']+\"\"\"' as linkedid\"\"\"\n",
    "    i+=1\n",
    "query+=';'\n",
    "query"
   ]
  },
  {
   "cell_type": "code",
   "execution_count": 16,
   "metadata": {},
   "outputs": [
    {
     "name": "stderr",
     "output_type": "stream",
     "text": [
      "/home/alex/anaconda3/lib/python3.7/site-packages/pymysql/cursors.py:170: Warning: (1051, \"Unknown table 'MICO_96.linkedid_relation_batch_2_instance_0'\")\n",
      "  result = self._query(query)\n",
      "/home/alex/anaconda3/lib/python3.7/site-packages/pymysql/cursors.py:170: Warning: (1051, \"Unknown table 'MICO_96.linkedid_related'\")\n",
      "  result = self._query(query)\n"
     ]
    },
    {
     "name": "stdout",
     "output_type": "stream",
     "text": [
      "('0012388684', '1602789350.14400182', '2020-10/15/in_9672477872_2020-10-15-22-15-51.wav49')\n",
      "('0012388685', '1602789550.14400185', '2020-10/15/in_79671391502_2020-10-15-22-19-11.wav49')\n"
     ]
    }
   ],
   "source": [
    "with cook.con:\n",
    "    # drop temporary tables\n",
    "    query = \"drop table if exists primary_linkedid_0;\"\n",
    "    cursor = cook.con.cursor()\n",
    "    cursor.execute(query)\n",
    "    \n",
    "    query = \"drop table if exists primary_linkedid_1;\"\n",
    "    cursor = cook.con.cursor()\n",
    "    cursor.execute(query)\n",
    "    \n",
    "    query = \"drop table if exists primary_linkedid_2;\"\n",
    "    cursor = cook.con.cursor()\n",
    "    cursor.execute(query)\n",
    "    \n",
    "    query = \"drop table if exists linkedid_relation_batch_1_instance_0;\"\n",
    "    cursor = cook.con.cursor()\n",
    "    cursor.execute(query)\n",
    "    \n",
    "    query = \"drop table if exists linkedid_relation_batch_1_instance_1;\"\n",
    "    cursor = cook.con.cursor()\n",
    "    cursor.execute(query)\n",
    "    \n",
    "    query = \"drop table if exists linkedid_relation_batch_1_instance_2;\"\n",
    "    cursor = cook.con.cursor()\n",
    "    cursor.execute(query)\n",
    "    \n",
    "    query = \"drop table if exists linkedid_relation_batch_2_instance_0;\"\n",
    "    cursor = cook.con.cursor()\n",
    "    cursor.execute(query)\n",
    "    \n",
    "    query = \"drop table if exists linkedid_related;\"\n",
    "    cursor = cook.con.cursor()\n",
    "    cursor.execute(query)\n",
    "    \n",
    "    # create known linkedid list\n",
    "    #query = \"\"\"create temporary table primary_linkedid_0\n",
    "    #select\n",
    "    #'\"\"\"+linkedid[0]['call_id']+\"\"\"' as call_id,\n",
    "    #'\"\"\"+linkedid[0]['date_from']+\"\"\"' as date_from,\n",
    "    #'\"\"\"+linkedid[0]['date_to']+\"\"\"' as date_to,\n",
    "    #'\"\"\"+linkedid[0]['linkedid']+\"\"\"' as linkedid\n",
    "    #union all\n",
    "    #select\n",
    "    #'\"\"\"+linkedid[1]['call_id']+\"\"\"' as call_id,\n",
    "    #'\"\"\"+linkedid[1]['date_from']+\"\"\"' as date_from,\n",
    "    #'\"\"\"+linkedid[1]['date_to']+\"\"\"' as date_to,\n",
    "    #'\"\"\"+linkedid[1]['linkedid']+\"\"\"' as linkedid;\"\"\"    \n",
    "    \n",
    "    query = 'create temporary table primary_linkedid_0'\n",
    "    i = 0\n",
    "    for instance in linkedid:\n",
    "        query+=\"\"\"\n",
    "        \"\"\"+('' if i==0 else 'union all')+\"\"\"\n",
    "        select\n",
    "        '\"\"\"+instance['call_id']+\"\"\"' as call_id,\n",
    "        '\"\"\"+instance['date_from']+\"\"\"' as date_from,\n",
    "        '\"\"\"+instance['date_to']+\"\"\"' as date_to,\n",
    "        '\"\"\"+instance['linkedid']+\"\"\"' as linkedid\"\"\"\n",
    "        i+=1\n",
    "    query+=';'\n",
    "    query\n",
    "    \n",
    "    cursor = cook.con.cursor()\n",
    "    cursor.execute(query)\n",
    "    \n",
    "    # duplicate\n",
    "    query = \"\"\"create temporary table primary_linkedid_1\n",
    "    select\n",
    "    call_id,\n",
    "    date_from,\n",
    "    date_to,\n",
    "    linkedid\n",
    "    from primary_linkedid_0;\"\"\"    \n",
    "    cursor = cook.con.cursor()\n",
    "    cursor.execute(query)\n",
    "    \n",
    "    query = \"\"\"create temporary table primary_linkedid_2\n",
    "    select\n",
    "    call_id,\n",
    "    date_from,\n",
    "    date_to,\n",
    "    linkedid\n",
    "    from primary_linkedid_0;\"\"\"\n",
    "    cursor = cook.con.cursor()\n",
    "    cursor.execute(query)\n",
    "    \n",
    "    # union -> relation batch 1\n",
    "    query = \"\"\"create temporary table linkedid_relation_batch_1_instance_0\n",
    "    select \n",
    "    primary_linkedid_0.call_id,\n",
    "    primary_linkedid_0.date_from,\n",
    "    primary_linkedid_0.date_to,\n",
    "    primary_linkedid_0.linkedid,\n",
    "    0 as relation_level\n",
    "    from primary_linkedid_0 as primary_linkedid_0\n",
    "    union all\n",
    "    \n",
    "    select\n",
    "    primary_linkedid_1.call_id,\n",
    "    primary_linkedid_1.date_from,\n",
    "    primary_linkedid_1.date_to,\n",
    "    relationsCalls.linkedid1,\n",
    "    1\n",
    "    from primary_linkedid_1 as primary_linkedid_1\n",
    "    inner join relationsCalls \n",
    "    on \n",
    "    relationsCalls.calldate>primary_linkedid_1.date_from and\n",
    "    relationsCalls.calldate<primary_linkedid_1.date_to and\n",
    "    primary_linkedid_1.linkedid=relationsCalls.linkedid2\n",
    "    union all\n",
    "    \n",
    "    select\n",
    "    primary_linkedid_2.call_id,\n",
    "    primary_linkedid_2.date_from,\n",
    "    primary_linkedid_2.date_to,\n",
    "    relationsCalls.linkedid2,\n",
    "    1    \n",
    "    from primary_linkedid_2 as primary_linkedid_2\n",
    "    inner join relationsCalls \n",
    "    on \n",
    "    relationsCalls.calldate>primary_linkedid_2.date_from and\n",
    "    relationsCalls.calldate<primary_linkedid_2.date_to and\n",
    "    primary_linkedid_2.linkedid=relationsCalls.linkedid1;\n",
    "    \"\"\"\n",
    "    cursor = cook.con.cursor()\n",
    "    cursor.execute(query)\n",
    "    \n",
    "    \n",
    "    # duplicate relation batch 1\n",
    "    query = \"\"\"create temporary table linkedid_relation_batch_1_instance_1\n",
    "    select \n",
    "    call_id,\n",
    "    date_from,\n",
    "    date_to,\n",
    "    linkedid,\n",
    "    relation_level\n",
    "    from linkedid_relation_batch_1_instance_0;\"\"\"\n",
    "    cursor = cook.con.cursor()\n",
    "    cursor.execute(query)\n",
    "    \n",
    "    query = \"\"\"create temporary table linkedid_relation_batch_1_instance_2\n",
    "    select \n",
    "    call_id,\n",
    "    date_from,\n",
    "    date_to,\n",
    "    linkedid,\n",
    "    relation_level\n",
    "    from linkedid_relation_batch_1_instance_0;\"\"\"\n",
    "    cursor = cook.con.cursor()\n",
    "    cursor.execute(query)\n",
    "    \n",
    "    # union -> relation batch 2\n",
    "    query = \"\"\"create temporary table linkedid_relation_batch_2_instance_0    \n",
    "    select \n",
    "    linkedid_relation_batch_1_instance_0.call_id,\n",
    "    linkedid_relation_batch_1_instance_0.date_from,\n",
    "    linkedid_relation_batch_1_instance_0.date_to,\n",
    "    linkedid_relation_batch_1_instance_0.linkedid\n",
    "    from linkedid_relation_batch_1_instance_0 as linkedid_relation_batch_1_instance_0    \n",
    "    union all\n",
    "    \n",
    "    select \n",
    "    linkedid_relation_batch_1_instance_1.call_id,\n",
    "    linkedid_relation_batch_1_instance_1.date_from,\n",
    "    linkedid_relation_batch_1_instance_1.date_to,\n",
    "    relationsCalls.linkedid2\n",
    "    from linkedid_relation_batch_1_instance_1 as linkedid_relation_batch_1_instance_1\n",
    "    inner join relationsCalls \n",
    "    on \n",
    "    relationsCalls.calldate>linkedid_relation_batch_1_instance_1.date_from and\n",
    "    relationsCalls.calldate<linkedid_relation_batch_1_instance_1.date_to and\n",
    "    linkedid_relation_batch_1_instance_1.linkedid=relationsCalls.linkedid1\n",
    "    where \n",
    "    linkedid_relation_batch_1_instance_1.relation_level = 1\n",
    "    union all\n",
    "    \n",
    "    select \n",
    "    linkedid_relation_batch_1_instance_2.call_id,\n",
    "    linkedid_relation_batch_1_instance_2.date_from,\n",
    "    linkedid_relation_batch_1_instance_2.date_to,\n",
    "    relationsCalls.linkedid1\n",
    "    from linkedid_relation_batch_1_instance_2 as linkedid_relation_batch_1_instance_2\n",
    "    inner join relationsCalls \n",
    "    on \n",
    "    relationsCalls.calldate>linkedid_relation_batch_1_instance_2.date_from and\n",
    "    relationsCalls.calldate<linkedid_relation_batch_1_instance_2.date_to and\n",
    "    linkedid_relation_batch_1_instance_2.linkedid=relationsCalls.linkedid2\n",
    "    where \n",
    "    linkedid_relation_batch_1_instance_2.relation_level = 1;\n",
    "    \"\"\"\n",
    "    cursor = cook.con.cursor()\n",
    "    cursor.execute(query)\n",
    "    \n",
    "    # group related linkedid\n",
    "    query = \"\"\"create temporary table linkedid_related\n",
    "    select distinct    \n",
    "    call_id,\n",
    "    date_from,\n",
    "    date_to,\n",
    "    linkedid COLLATE utf8_unicode_ci as linkedid\n",
    "    from linkedid_relation_batch_2_instance_0\"\"\"\n",
    "    cursor = cook.con.cursor()\n",
    "    cursor.execute(query)\n",
    "    \n",
    "    query = \"\"\"\n",
    "    select\n",
    "    linkedid_related.call_id,    \n",
    "    linkedid_related.linkedid,\n",
    "    PT1C_cdr_MICO.recordingfile\n",
    "    from PT1C_cdr_MICO as PT1C_cdr_MICO\n",
    "    inner join linkedid_related as linkedid_related on\n",
    "    PT1C_cdr_MICO.calldate>linkedid_related.date_from and\n",
    "    PT1C_cdr_MICO.calldate<linkedid_related.date_to and\n",
    "    PT1C_cdr_MICO.linkedid = linkedid_related.linkedid\"\"\"\n",
    "    \n",
    "    cursor = cook.con.cursor()\n",
    "    cursor.execute(query)\n",
    "    for row in cursor.fetchall():\n",
    "        print(row)"
   ]
  },
  {
   "cell_type": "code",
   "execution_count": null,
   "metadata": {},
   "outputs": [],
   "source": [
    "with cook.con:        \n",
    "    #query = \"SHOW COLUMNS FROM PT1C_cdr_MICO;\"\n",
    "    query = \"SHOW COLUMNS FROM relationsCalls;\"\n",
    "    \n",
    "    cursor = cook.con.cursor()\n",
    "    cursor.execute(query)\n",
    "    for row in cursor.fetchall():\n",
    "        print(row)"
   ]
  },
  {
   "cell_type": "code",
   "execution_count": 18,
   "metadata": {},
   "outputs": [],
   "source": [
    "df = pd.read_csv('data/test.csv',';')"
   ]
  },
  {
   "cell_type": "code",
   "execution_count": 19,
   "metadata": {},
   "outputs": [
    {
     "data": {
      "text/html": [
       "<div>\n",
       "<style scoped>\n",
       "    .dataframe tbody tr th:only-of-type {\n",
       "        vertical-align: middle;\n",
       "    }\n",
       "\n",
       "    .dataframe tbody tr th {\n",
       "        vertical-align: top;\n",
       "    }\n",
       "\n",
       "    .dataframe thead th {\n",
       "        text-align: right;\n",
       "    }\n",
       "</style>\n",
       "<table border=\"1\" class=\"dataframe\">\n",
       "  <thead>\n",
       "    <tr style=\"text-align: right;\">\n",
       "      <th></th>\n",
       "      <th>call_id</th>\n",
       "      <th>date_from</th>\n",
       "      <th>date_to</th>\n",
       "      <th>linkedid</th>\n",
       "    </tr>\n",
       "  </thead>\n",
       "  <tbody>\n",
       "    <tr>\n",
       "      <th>0</th>\n",
       "      <td>12460597</td>\n",
       "      <td>27.10.2020 14:26:56</td>\n",
       "      <td>27.10.2020 14:28:56</td>\n",
       "      <td>1.603798e+09</td>\n",
       "    </tr>\n",
       "    <tr>\n",
       "      <th>1</th>\n",
       "      <td>12460596</td>\n",
       "      <td>27.10.2020 14:26:55</td>\n",
       "      <td>27.10.2020 14:28:55</td>\n",
       "      <td>1.603798e+09</td>\n",
       "    </tr>\n",
       "    <tr>\n",
       "      <th>2</th>\n",
       "      <td>12460595</td>\n",
       "      <td>27.10.2020 14:26:45</td>\n",
       "      <td>27.10.2020 14:28:45</td>\n",
       "      <td>1.603798e+09</td>\n",
       "    </tr>\n",
       "  </tbody>\n",
       "</table>\n",
       "</div>"
      ],
      "text/plain": [
       "    call_id            date_from              date_to      linkedid\n",
       "0  12460597  27.10.2020 14:26:56  27.10.2020 14:28:56  1.603798e+09\n",
       "1  12460596  27.10.2020 14:26:55  27.10.2020 14:28:55  1.603798e+09\n",
       "2  12460595  27.10.2020 14:26:45  27.10.2020 14:28:45  1.603798e+09"
      ]
     },
     "execution_count": 19,
     "metadata": {},
     "output_type": "execute_result"
    }
   ],
   "source": [
    "df"
   ]
  },
  {
   "cell_type": "code",
   "execution_count": 23,
   "metadata": {},
   "outputs": [
    {
     "name": "stdout",
     "output_type": "stream",
     "text": [
      "27.10.2020 14:26:56\n",
      "27.10.2020 14:26:55\n",
      "27.10.2020 14:26:45\n"
     ]
    }
   ],
   "source": [
    "for i in range(len(df)):\n",
    "    row = df.iloc[i]\n",
    "    print(row.date_from)"
   ]
  },
  {
   "cell_type": "code",
   "execution_count": 49,
   "metadata": {},
   "outputs": [],
   "source": [
    "from datetime import datetime"
   ]
  },
  {
   "cell_type": "code",
   "execution_count": 51,
   "metadata": {},
   "outputs": [
    {
     "data": {
      "text/plain": [
       "'2020-10-27T14:26:45'"
      ]
     },
     "execution_count": 51,
     "metadata": {},
     "output_type": "execute_result"
    }
   ],
   "source": [
    "date_original = datetime.strptime(row.date_from,'%d.%m.%Y %H:%M:%S')\n",
    "date_original.strftime('%Y-%m-%dT%H:%M:%S')\n",
    "#date_converted = "
   ]
  },
  {
   "cell_type": "code",
   "execution_count": 48,
   "metadata": {},
   "outputs": [
    {
     "data": {
      "text/plain": [
       "2020"
      ]
     },
     "execution_count": 48,
     "metadata": {},
     "output_type": "execute_result"
    }
   ],
   "source": [
    "date_original.tm_year"
   ]
  }
 ],
 "metadata": {
  "kernelspec": {
   "display_name": "Python 3",
   "language": "python",
   "name": "python3"
  },
  "language_info": {
   "codemirror_mode": {
    "name": "ipython",
    "version": 3
   },
   "file_extension": ".py",
   "mimetype": "text/x-python",
   "name": "python",
   "nbconvert_exporter": "python",
   "pygments_lexer": "ipython3",
   "version": "3.7.6"
  }
 },
 "nbformat": 4,
 "nbformat_minor": 4
}
